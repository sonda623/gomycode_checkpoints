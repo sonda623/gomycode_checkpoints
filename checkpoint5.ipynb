{
 "cells": [
  {
   "cell_type": "markdown",
   "id": "029bcfcd",
   "metadata": {},
   "source": [
    "### Write a python class named Point3D defined by x, y, and z. Define a method that returns (x, y ,z). This tells Python to represent this object in the following format: (x, y, z). Then create a variable named my_point containing a new instance of Point3D with x=1, y=2, and z=3 and print it."
   ]
  },
  {
   "cell_type": "code",
   "execution_count": 37,
   "id": "7e68fd27",
   "metadata": {},
   "outputs": [
    {
     "name": "stdout",
     "output_type": "stream",
     "text": [
      "1, 2 , 3\n"
     ]
    }
   ],
   "source": [
    "class Point3D:\n",
    "    def __init__(self,x,y,z):\n",
    "        self.x=x\n",
    "        self.y=y\n",
    "        self.z=z\n",
    "        \n",
    "    def axe(self,option:str):\n",
    "        if option==\"x\":\n",
    "            give=self.x\n",
    "        elif option==\"y\":\n",
    "            give=self.x\n",
    "        elif option==\"z\":\n",
    "            give=self.z    \n",
    "        return \"{} axe des\".format(give.axe)   \n",
    "\n",
    "my_point= Point3D(1,2,3)\n",
    "print(\"{}, {} , {}\".format(my_point.x, my_point.y,my_point.z))"
   ]
  },
  {
   "cell_type": "markdown",
   "id": "c4f1f7e2",
   "metadata": {},
   "source": [
    "### Write a Python class named Rectangle constructed by a length and width. Define two methods area and perimeter which will compute the area and the perimeter of the rectangle. Then create a variable named my_rectangle containing a new instance of Rectangle with width=3 and length = 4 and compute both of area and perimeter ( the area is expected to be 3*4=12 and perimeter 2*(3+4)=14)"
   ]
  },
  {
   "cell_type": "code",
   "execution_count": 42,
   "id": "0f5044be",
   "metadata": {},
   "outputs": [
    {
     "name": "stdout",
     "output_type": "stream",
     "text": [
      "12\n",
      "14\n"
     ]
    }
   ],
   "source": [
    "class Rectangle:\n",
    "    def __init__(self,length,width):\n",
    "        self.length=length\n",
    "        self.width=width\n",
    "    def area(self):\n",
    "        return self.length*self.width\n",
    "    def perimeter(self):\n",
    "        return (self.width+self.length)*2\n",
    "my_rectangle=Rectangle(3,4)\n",
    "print(my_rectangle.area())\n",
    "print(my_rectangle.perimeter())   \n"
   ]
  },
  {
   "cell_type": "markdown",
   "id": "0aae7470",
   "metadata": {},
   "source": [
    "### Write a Python  class named Circle constructed by its center O and radius r. Define two methods area and perimeter which will compute the area and the perimeter of the circle, and isInside() method of the class which allows to test whether a point A(x, y) belongs to the circle C(O, r) or not."
   ]
  },
  {
   "cell_type": "code",
   "execution_count": null,
   "id": "00adb82c",
   "metadata": {},
   "outputs": [],
   "source": [
    "import math\n",
    "class Circle():\n",
    "    def __init__(self,r,ox,oy):\n",
    "        \n",
    "        self.r=r\n",
    "        self.ox=ox\n",
    "        self.oy=oy\n",
    "    def area(self):\n",
    "        return math.pi*(self.r**2)\n",
    "    def perimeter(self):\n",
    "        return 2*math.pi*self.r\n",
    "    def isInside(x,ox,y,oy,r1):\n",
    "        if (x-ox)**2+(y-oy)**2==r1**2:\n",
    "            return True\n",
    "        else: \n",
    "            return False\n",
    "r1 = int(input(\"Enter the radius of circle\"))    \n",
    "ox=int(input())\n",
    "oy=int(input())\n",
    "x=int(input())\n",
    "y=int(input())\n",
    "my_circle= Circle(r1,ox,oy)\n",
    "print(\"The area of circle is \")\n",
    "print(my_instance.area_calculate())\n",
    "print(\"The perimeter of circle is :\")\n",
    "print(my_instance.perimeter_calculate())\n",
    "if Circle.isInside(x,ox,y,oy,r1):\n",
    "    print(\"Inside\")\n",
    "else:\n",
    "    print(\"Outside\")"
   ]
  },
  {
   "cell_type": "markdown",
   "id": "23e97349",
   "metadata": {},
   "source": [
    "### Suppose we want to model a bank account with support for deposit and withdraw operations. Let’s create a python class named bank defined by its balance. Define two methods deposit and withdraw to compute the new amount of each operation.\n"
   ]
  },
  {
   "cell_type": "code",
   "execution_count": 90,
   "id": "4d694f81",
   "metadata": {},
   "outputs": [],
   "source": [
    "class bank:\n",
    "    def __init__(self,balance=100):\n",
    "        self.balance=balance\n",
    "    def balance(self):\n",
    "        amount=float(input(\"enter amount to be deposed\"))\n",
    "        self.balance+=amount\n",
    "        print(\"amount deposed\",amount)  \n",
    "    def withdraw(self):\n",
    "        amount=float(input(\"enter amount to withdraw\"))\n",
    "        if amount<=self.balance:\n",
    "            print(\"withdraw\")\n",
    "        else: \n",
    "            print(\"insufficient amount\")\n",
    "            \n",
    "    "
   ]
  },
  {
   "cell_type": "code",
   "execution_count": 92,
   "id": "6cd9df1e",
   "metadata": {},
   "outputs": [
    {
     "name": "stdout",
     "output_type": "stream",
     "text": [
      "enter amount to withdraw50\n",
      "withdraw\n"
     ]
    }
   ],
   "source": [
    "b=bank()\n",
    "b.balance\n",
    "b.withdraw()"
   ]
  },
  {
   "cell_type": "code",
   "execution_count": null,
   "id": "18b5c7ba",
   "metadata": {},
   "outputs": [],
   "source": []
  }
 ],
 "metadata": {
  "kernelspec": {
   "display_name": "Python 3",
   "language": "python",
   "name": "python3"
  },
  "language_info": {
   "codemirror_mode": {
    "name": "ipython",
    "version": 3
   },
   "file_extension": ".py",
   "mimetype": "text/x-python",
   "name": "python",
   "nbconvert_exporter": "python",
   "pygments_lexer": "ipython3",
   "version": "3.8.8"
  }
 },
 "nbformat": 4,
 "nbformat_minor": 5
}
