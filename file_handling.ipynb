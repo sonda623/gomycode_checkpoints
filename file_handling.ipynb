{
  "nbformat": 4,
  "nbformat_minor": 0,
  "metadata": {
    "colab": {
      "name": "file_handling.ipynb",
      "provenance": [],
      "collapsed_sections": []
    },
    "kernelspec": {
      "name": "python3",
      "display_name": "Python 3"
    },
    "language_info": {
      "name": "python"
    }
  },
  "cells": [
    {
      "cell_type": "markdown",
      "source": [
        "Write a Python program to read an entire text file."
      ],
      "metadata": {
        "id": "XQsRIJxn1Ia3"
      }
    },
    {
      "cell_type": "code",
      "execution_count": null,
      "metadata": {
        "colab": {
          "base_uri": "https://localhost:8080/"
        },
        "id": "tyVTgFS91Df6",
        "outputId": "e5edbde3-5297-4738-f20e-ac65331df5ba"
      },
      "outputs": [
        {
          "output_type": "stream",
          "name": "stdout",
          "text": [
            "my first file\n",
            "This file\n",
            "\n",
            "contains three lines\n",
            "\n"
          ]
        }
      ],
      "source": [
        "with open(\"test.txt\",'w',encoding = 'utf-8') as f:\n",
        "   f.write(\"my first file\\n\")\n",
        "   f.write(\"This file\\n\\n\")\n",
        "   f.write(\"contains three lines\\n\")\n",
        "f = open(\"test.txt\",'r',encoding = 'utf-8')\n",
        "print(f.read())\n",
        "\n"
      ]
    },
    {
      "cell_type": "markdown",
      "source": [
        "Write a Python program to read first n lines of a file."
      ],
      "metadata": {
        "id": "9iRuy3ED1tUs"
      }
    },
    {
      "cell_type": "code",
      "source": [
        "with open(\"test.txt\",'w',encoding = 'utf-8') as f:\n",
        "   f.write(\"my first file\\n\")\n",
        "   f.write(\"This file\\n\")\n",
        "   f.write(\"contains three lines\\n\")\n",
        "f = open(\"test.txt\",'r',encoding = 'utf-8')\n",
        "n=int(input())\n",
        "for i in range(n):\n",
        "    line = f.readline()\n",
        "    print(line)\n"
      ],
      "metadata": {
        "colab": {
          "base_uri": "https://localhost:8080/"
        },
        "id": "Gi4EYYHm1t8Q",
        "outputId": "1bb2fa24-c015-473c-af74-6ce023f43d32"
      },
      "execution_count": null,
      "outputs": [
        {
          "output_type": "stream",
          "name": "stdout",
          "text": [
            "2\n",
            "my first file\n",
            "\n",
            "This file\n",
            "\n"
          ]
        }
      ]
    },
    {
      "cell_type": "markdown",
      "source": [
        "Write a Python program to read last n lines of a file"
      ],
      "metadata": {
        "id": "Z6zFfSYG5W4h"
      }
    },
    {
      "cell_type": "code",
      "source": [
        "with open(\"test.txt\",'w',encoding = 'utf-8') as f:\n",
        "   f.write(\"my first file\\n\")\n",
        "   f.write(\"This file\\n\")\n",
        "   f.write(\"contains three lines\\n\")\n",
        "f = open(\"test.txt\",'r',encoding = 'utf-8')\n",
        "n=int(input())\n",
        "lines =f.readlines()\n",
        "last_lines = lines[-n:]\n",
        "\n",
        "print(last_lines)"
      ],
      "metadata": {
        "colab": {
          "base_uri": "https://localhost:8080/"
        },
        "id": "BV7eU6Te7a-s",
        "outputId": "ff166308-2229-463a-907a-02e5c654442b"
      },
      "execution_count": null,
      "outputs": [
        {
          "output_type": "stream",
          "name": "stdout",
          "text": [
            "2\n",
            "['This file\\n', 'contains three lines\\n']\n"
          ]
        }
      ]
    },
    {
      "cell_type": "markdown",
      "source": [
        "Write a Python program that takes a text file as input and returns the number of words of a given text file."
      ],
      "metadata": {
        "id": "xl6j7_Ct72oA"
      }
    },
    {
      "cell_type": "code",
      "source": [
        "with open(\"test.txt\",'w',encoding = 'utf-8') as f:\n",
        "  f.write(\"Python is a widely used high-level, general-purpose, interpreted, dynamic programming language.\")\n",
        "  f.write(\"  Its design philosophy emphasizes code readability, and its syntax allows programmers to express concepts in fewer lines of code than possible in languages\")\n",
        "\n",
        "f = open(\"test.txt\",'r')\n",
        "\n",
        "def count_words(filepath):\n",
        "  \n",
        "    data = f.read()\n",
        "    data.replace(\",\", \" \")\n",
        "    return len(data.split(\" \"))\n",
        "print(count_words(\"text.txt\"))\n"
      ],
      "metadata": {
        "colab": {
          "base_uri": "https://localhost:8080/"
        },
        "id": "15AHVYgR77gs",
        "outputId": "434db288-ccd2-46e6-c74e-430f04d29121"
      },
      "execution_count": null,
      "outputs": [
        {
          "output_type": "stream",
          "name": "stdout",
          "text": [
            "35\n"
          ]
        }
      ]
    }
  ]
}