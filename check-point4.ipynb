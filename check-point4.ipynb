{
 "cells": [
  {
   "cell_type": "markdown",
   "id": "a5c64fb1",
   "metadata": {},
   "source": [
    "# Question 1\n",
    "\n",
    "# Write a Python function to find the Max of three numbers.\n",
    "\n",
    "# for example, the max of these three numbers 20, 35, 19 is 35"
   ]
  },
  {
   "cell_type": "code",
   "execution_count": 33,
   "id": "5651555d",
   "metadata": {},
   "outputs": [],
   "source": [
    "def maximum(a,b,c):\n",
    "    if a>=b and a>=c:\n",
    "        max=a\n",
    "    elif b>=a and b>=c:\n",
    "        max=b\n",
    "    else:\n",
    "        max=c\n",
    "    return max\n",
    "x =maximum(20,35,19)\n",
    "\n",
    "\n"
   ]
  },
  {
   "cell_type": "code",
   "execution_count": 34,
   "id": "74260575",
   "metadata": {},
   "outputs": [
    {
     "data": {
      "text/plain": [
       "35"
      ]
     },
     "execution_count": 34,
     "metadata": {},
     "output_type": "execute_result"
    }
   ],
   "source": [
    "x\n",
    "\n"
   ]
  },
  {
   "cell_type": "markdown",
   "id": "4818965c",
   "metadata": {},
   "source": [
    "# Question 2\n",
    "\n",
    "# Write a function calculation() such that it can accept two variables and calculate the addition and subtraction of it. And also it must return both addition and subtraction in a single return call\n",
    "\n",
    "# For example:\n",
    "\n",
    "calculation(40, 10) should produce 50, 30\n"
   ]
  },
  {
   "cell_type": "code",
   "execution_count": 40,
   "id": "f2bdebc5",
   "metadata": {},
   "outputs": [],
   "source": [
    "def calculation(a,b):\n",
    "    return a+b,a-b\n",
    "x,y=calculation(40,10)"
   ]
  },
  {
   "cell_type": "code",
   "execution_count": 41,
   "id": "8bf416a4",
   "metadata": {},
   "outputs": [
    {
     "data": {
      "text/plain": [
       "50"
      ]
     },
     "execution_count": 41,
     "metadata": {},
     "output_type": "execute_result"
    }
   ],
   "source": [
    "x"
   ]
  },
  {
   "cell_type": "code",
   "execution_count": 42,
   "id": "98cefc16",
   "metadata": {},
   "outputs": [
    {
     "data": {
      "text/plain": [
       "30"
      ]
     },
     "execution_count": 42,
     "metadata": {},
     "output_type": "execute_result"
    }
   ],
   "source": [
    "y"
   ]
  },
  {
   "cell_type": "markdown",
   "id": "541eab02",
   "metadata": {},
   "source": [
    "# Question 3\n",
    "\n",
    "# Write a function that sums the elements of a list of integers.\n",
    "# Write a function that multiplies the elements of an integer list.\n",
    "# Use the two functions to sum the elements whose position is an even number (0,2,4…) and multiply the rest.\n",
    "Hint: Consider extracting two lists from a first list "
   ]
  },
  {
   "cell_type": "code",
   "execution_count": 97,
   "id": "24787d3c",
   "metadata": {},
   "outputs": [
    {
     "name": "stdout",
     "output_type": "stream",
     "text": [
      "4\n",
      "7\n",
      "8\n",
      "9\n",
      "5\n",
      "[7, 8, 9, 5]\n"
     ]
    }
   ],
   "source": [
    "n=int(input())\n",
    "l = [int(input()) for i in range(n)]\n",
    "print(l)\n",
    "def sumlist(l):\n",
    "    total=0\n",
    "    for i in range(len(l)):\n",
    "        total +=l[i]\n",
    "    return total\n",
    "def multiplelist(l):\n",
    "    total=1\n",
    "    for i in range(len(l)):\n",
    "        total *=l[i]\n",
    "    return total\n",
    "  \n"
   ]
  },
  {
   "cell_type": "code",
   "execution_count": 98,
   "id": "152d4651",
   "metadata": {},
   "outputs": [
    {
     "data": {
      "text/plain": [
       "29"
      ]
     },
     "execution_count": 98,
     "metadata": {},
     "output_type": "execute_result"
    }
   ],
   "source": [
    "\n",
    "sumlist(l)\n"
   ]
  },
  {
   "cell_type": "code",
   "execution_count": 99,
   "id": "c851f845",
   "metadata": {},
   "outputs": [
    {
     "data": {
      "text/plain": [
       "2520"
      ]
     },
     "execution_count": 99,
     "metadata": {},
     "output_type": "execute_result"
    }
   ],
   "source": [
    "multiplelist(l)"
   ]
  },
  {
   "cell_type": "code",
   "execution_count": 105,
   "id": "c37b8017",
   "metadata": {},
   "outputs": [],
   "source": [
    "l1=[]\n",
    "l2=[]\n",
    "for i in range (len(l)):\n",
    "        if i % 2 == 0:\n",
    "            l1.append(l[i])\n",
    "l2 = [ k  for k in l if k not in l1 ]\n",
    "    "
   ]
  },
  {
   "cell_type": "code",
   "execution_count": 106,
   "id": "2e6202d4",
   "metadata": {},
   "outputs": [
    {
     "data": {
      "text/plain": [
       "[7, 9]"
      ]
     },
     "execution_count": 106,
     "metadata": {},
     "output_type": "execute_result"
    }
   ],
   "source": [
    "l1"
   ]
  },
  {
   "cell_type": "code",
   "execution_count": 107,
   "id": "45c3f7e3",
   "metadata": {},
   "outputs": [
    {
     "data": {
      "text/plain": [
       "[8, 5]"
      ]
     },
     "execution_count": 107,
     "metadata": {},
     "output_type": "execute_result"
    }
   ],
   "source": [
    "l2"
   ]
  },
  {
   "cell_type": "code",
   "execution_count": 108,
   "id": "adc92374",
   "metadata": {},
   "outputs": [
    {
     "data": {
      "text/plain": [
       "16"
      ]
     },
     "execution_count": 108,
     "metadata": {},
     "output_type": "execute_result"
    }
   ],
   "source": [
    "sumlist(l1)"
   ]
  },
  {
   "cell_type": "code",
   "execution_count": 109,
   "id": "56f32234",
   "metadata": {},
   "outputs": [
    {
     "data": {
      "text/plain": [
       "40"
      ]
     },
     "execution_count": 109,
     "metadata": {},
     "output_type": "execute_result"
    }
   ],
   "source": [
    "multiplelist(l2)"
   ]
  },
  {
   "cell_type": "markdown",
   "id": "43f53542",
   "metadata": {},
   "source": [
    "## Write a Python program that accepts a hyphen-separated sequence of words as input and prints the words in a hyphen-separated sequence after sorting them alphabetically.\n",
    "\n",
    "### Sample Items : green-red-yellow-black-white\n",
    "### Expected Result : black-green-red-white-yellow\n"
   ]
  },
  {
   "cell_type": "code",
   "execution_count": 78,
   "id": "abd18087",
   "metadata": {},
   "outputs": [
    {
     "name": "stdout",
     "output_type": "stream",
     "text": [
      "green-red-yellow-black-white\n",
      "black-green-red-white-yellow\n"
     ]
    }
   ],
   "source": [
    "\n",
    "str=[n for n in input().split('-')]\n",
    "str.sort()\n",
    "print('-'.join(str))\n",
    "\n"
   ]
  },
  {
   "cell_type": "markdown",
   "id": "4e5af014",
   "metadata": {},
   "source": [
    "# Write a function that calculates and prints the value according to the given formula: Q = Square root of [(2 * C * D)/H] Following are the fixed values of C and H: C is 50. H is 30. D is the variable whose values should be input to your program in a comma-separated sequence. Example Let us assume the following comma separated input sequence is given to the function: 100,150,180 The output of the program should be: 18,22,24 "
   ]
  },
  {
   "cell_type": "code",
   "execution_count": null,
   "id": "3a33c035",
   "metadata": {},
   "outputs": [],
   "source": [
    "import math\n",
    "c=50\n",
    "h=30\n",
    "value=list()\n",
    "items=[x for x in input().split(',')]\n",
    "for d in items:\n",
    "    value.append(str(round(math.sqrt(2 * c * int(d) / h))))\n",
    "print(\",\".join(value))"
   ]
  },
  {
   "cell_type": "code",
   "execution_count": null,
   "id": "7a933410",
   "metadata": {},
   "outputs": [],
   "source": []
  },
  {
   "cell_type": "code",
   "execution_count": null,
   "id": "38f49fc0",
   "metadata": {},
   "outputs": [],
   "source": []
  }
 ],
 "metadata": {
  "kernelspec": {
   "display_name": "Python 3",
   "language": "python",
   "name": "python3"
  },
  "language_info": {
   "codemirror_mode": {
    "name": "ipython",
    "version": 3
   },
   "file_extension": ".py",
   "mimetype": "text/x-python",
   "name": "python",
   "nbconvert_exporter": "python",
   "pygments_lexer": "ipython3",
   "version": "3.8.8"
  }
 },
 "nbformat": 4,
 "nbformat_minor": 5
}
