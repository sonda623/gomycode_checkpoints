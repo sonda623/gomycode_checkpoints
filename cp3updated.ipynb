{
 "cells": [
  {
   "cell_type": "markdown",
   "id": "85d8988c",
   "metadata": {},
   "source": [
    "# Question1 :Write a Python program to multiplies all the items in a list. \n",
    "# for example list=[2, 3, 6]\n",
    "\n",
    "## result = 36"
   ]
  },
  {
   "cell_type": "code",
   "execution_count": 1,
   "id": "1e62e138",
   "metadata": {},
   "outputs": [
    {
     "name": "stdout",
     "output_type": "stream",
     "text": [
      "3\n",
      "2\n",
      "3\n",
      "6\n",
      "2\n",
      "6\n",
      "36\n"
     ]
    }
   ],
   "source": [
    "l=list()\n",
    "n=int(input());\n",
    "for i in range(n):\n",
    "    x=int(input())\n",
    "    l.append(x)\n",
    "y=1    \n",
    "for i in range(n):\n",
    "  \n",
    "    y=y*l[i]\n",
    "    print(y)"
   ]
  },
  {
   "cell_type": "markdown",
   "id": "e13d762d",
   "metadata": {},
   "source": [
    "# Question2:\n",
    "\n",
    "# Write a Python program to get a list, sorted in increasing order by the last element in each tuple from a given list of non-empty tuples.\n",
    "# Sample List : [(2, 5), (1, 2), (4, 4), (2, 3), (2, 1)]\n",
    "# Expected Result : [(2, 1), (1, 2), (2, 3), (4, 4), (2, 5)]\n"
   ]
  },
  {
   "cell_type": "code",
   "execution_count": 4,
   "id": "66f162c7",
   "metadata": {},
   "outputs": [
    {
     "name": "stdout",
     "output_type": "stream",
     "text": [
      "5\n",
      "2\n",
      "5\n",
      "1\n",
      "2\n",
      "4\n",
      "4\n",
      "2\n",
      "3\n",
      "2\n",
      "1\n",
      "[(2, 5), (1, 2), (4, 4), (2, 3), (2, 1)]\n"
     ]
    }
   ],
   "source": [
    "l=list()\n",
    "n=int(input());\n",
    "for i in range(n):\n",
    "    t=list()\n",
    "\n",
    "    for j in range(2):\n",
    "        t.append(int(input()))\n",
    "    l.append(tuple(t))\n",
    "\n",
    "    \n",
    "print(l)\n",
    "\n",
    "    \n",
    "    "
   ]
  },
  {
   "cell_type": "code",
   "execution_count": 12,
   "id": "b3d2a1de",
   "metadata": {},
   "outputs": [
    {
     "name": "stdout",
     "output_type": "stream",
     "text": [
      "[(2, 1), (1, 2), (2, 3), (4, 4), (2, 5)]\n"
     ]
    }
   ],
   "source": [
    "d={}\n",
    "for i in range(len(l)):\n",
    "    d[l[i][1]]=l[i]\n",
    "f=list(d.keys())\n",
    "\n",
    "f=sorted(f)\n",
    "l2=list()\n",
    "for i in f:\n",
    "    l2.append(d[i])\n",
    "    \n",
    "print(l2)    \n"
   ]
  },
  {
   "cell_type": "markdown",
   "id": "cd3f54e8",
   "metadata": {},
   "source": [
    "# Question3: \n",
    "\n",
    "### Write a Python program to combine two dictionary adding values for common keys.\n",
    "\n",
    "d1 = {'a': 100, 'b': 200, 'c':300}\n",
    "d2 = {'a': 300, 'b': 200, 'd':400}\n",
    "Expected output: {'a': 400, 'b': 400, 'd': 400, 'c': 300}"
   ]
  },
  {
   "cell_type": "code",
   "execution_count": 15,
   "id": "e88131cb",
   "metadata": {},
   "outputs": [],
   "source": [
    "d1 = {'a': 100, 'b': 200, 'c':300}\n",
    "d2 = {'a': 300, 'b': 200, 'd':400}\n",
    "\n",
    "for key in d1:\n",
    "    if key in d2:  \n",
    "        d2[key]=d1[key]+d2[key]\n",
    "    else: \n",
    "        d2[key]=d1[key]\n",
    "   \n",
    "\n",
    "  "
   ]
  },
  {
   "cell_type": "code",
   "execution_count": 14,
   "id": "1929e746",
   "metadata": {},
   "outputs": [
    {
     "data": {
      "text/plain": [
       "{'a': 400, 'b': 400, 'd': 400, 'c': 300}"
      ]
     },
     "execution_count": 14,
     "metadata": {},
     "output_type": "execute_result"
    }
   ],
   "source": [
    "d2"
   ]
  },
  {
   "cell_type": "markdown",
   "id": "94b2e511",
   "metadata": {},
   "source": [
    "# Question 5: \n",
    "\n",
    "## Write a program to sort a tuple by its float element.\n",
    "For example list= [('item1', '12.20'), ('item2', '15.10'), ('item3', '24.5')]\n",
    "Expected Output: [('item3', '24.5'), ('item2', '15.10'), ('item1', '12.20')]"
   ]
  },
  {
   "cell_type": "code",
   "execution_count": 87,
   "id": "7b1e47ae",
   "metadata": {},
   "outputs": [
    {
     "name": "stdout",
     "output_type": "stream",
     "text": [
      "3\n",
      "str1\n",
      "12.20\n",
      "str2\n",
      "15.1\n",
      "str3\n",
      "24.5\n"
     ]
    }
   ],
   "source": [
    "k=list()\n",
    "n1=int(input());\n",
    "for i in range(n):\n",
    "    t1=list()\n",
    "    for j in range(2):\n",
    "        if j==0: \n",
    "            t1.append(input())\n",
    "        else:\n",
    "            t1.append(float(input()))    \n",
    "    k.append(tuple(t1))\n",
    "    \n"
   ]
  },
  {
   "cell_type": "code",
   "execution_count": 90,
   "id": "e17eed6c",
   "metadata": {},
   "outputs": [
    {
     "name": "stdout",
     "output_type": "stream",
     "text": [
      "[('str1', 12.2), ('str2', 15.1), ('str3', 24.5)]\n"
     ]
    }
   ],
   "source": [
    "print(k)\n",
    "    "
   ]
  },
  {
   "cell_type": "code",
   "execution_count": 116,
   "id": "5414f826",
   "metadata": {},
   "outputs": [],
   "source": [
    "d1={}\n",
    "for i in range(len(k)):\n",
    "    d1[k[i][1]]=k[i]\n",
    "f1=list(d1.keys())\n",
    "\n",
    "f1=sorted(f1,reverse=True)\n",
    "l3=list()\n",
    "for i in f1:\n",
    "    l3.append(d1[i])\n"
   ]
  },
  {
   "cell_type": "code",
   "execution_count": 117,
   "id": "c7184276",
   "metadata": {},
   "outputs": [
    {
     "name": "stdout",
     "output_type": "stream",
     "text": [
      "[('str3', 24.5), ('str2', 15.1), ('str1', 12.2)]\n"
     ]
    }
   ],
   "source": [
    "print(l3)"
   ]
  },
  {
   "cell_type": "markdown",
   "id": "044c4b7a",
   "metadata": {},
   "source": [
    "# Question 4\n",
    "\n",
    "### Question: With a given integral number n, write a program to generate a dictionary that contains (i, i*i) such that is an integral number between 1 and n (both included). and then the program should print the dictionary. Suppose the following input is supplied to the program: 8 Then, the output should be: {1: 1, 2: 4, 3: 9, 4: 16, 5: 25, 6: 36, 7: 49, 8: 64}\n",
    "\n"
   ]
  },
  {
   "cell_type": "code",
   "execution_count": 125,
   "id": "4e66e864",
   "metadata": {},
   "outputs": [
    {
     "name": "stdout",
     "output_type": "stream",
     "text": [
      "8\n"
     ]
    }
   ],
   "source": [
    "d2={}\n",
    "n=int(input())\n",
    "for i in range(1,n+1):\n",
    "    d2[i]=i*i"
   ]
  },
  {
   "cell_type": "code",
   "execution_count": 126,
   "id": "7b86adb0",
   "metadata": {},
   "outputs": [
    {
     "data": {
      "text/plain": [
       "{1: 1, 2: 4, 3: 9, 4: 16, 5: 25, 6: 36, 7: 49, 8: 64}"
      ]
     },
     "execution_count": 126,
     "metadata": {},
     "output_type": "execute_result"
    }
   ],
   "source": [
    "d2\n"
   ]
  },
  {
   "cell_type": "code",
   "execution_count": null,
   "id": "73ea91c5",
   "metadata": {},
   "outputs": [],
   "source": []
  }
 ],
 "metadata": {
  "kernelspec": {
   "display_name": "Python 3",
   "language": "python",
   "name": "python3"
  },
  "language_info": {
   "codemirror_mode": {
    "name": "ipython",
    "version": 3
   },
   "file_extension": ".py",
   "mimetype": "text/x-python",
   "name": "python",
   "nbconvert_exporter": "python",
   "pygments_lexer": "ipython3",
   "version": "3.8.8"
  }
 },
 "nbformat": 4,
 "nbformat_minor": 5
}
