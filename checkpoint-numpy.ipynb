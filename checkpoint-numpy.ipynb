{
 "cells": [
  {
   "cell_type": "markdown",
   "id": "24f5aa82",
   "metadata": {},
   "source": [
    "Write a Python program to convert an array to an ordinary list with the same items.\n",
    "\n",
    "we can use the np.tolist() function"
   ]
  },
  {
   "cell_type": "code",
   "execution_count": 15,
   "id": "8bac4ca4",
   "metadata": {},
   "outputs": [
    {
     "name": "stdout",
     "output_type": "stream",
     "text": [
      "NumPy Array:\n",
      " [1 2 3]\n",
      "list:\n",
      " [1, 2, 3]\n"
     ]
    }
   ],
   "source": [
    "\n",
    "import numpy as np\n",
    "array1 = np.array([1, 2, 3])\n",
    "print('NumPy Array:\\n',array1)\n",
    "list1 = array1.tolist()\n",
    "print('list:\\n',list1)"
   ]
  },
  {
   "cell_type": "markdown",
   "id": "a6a05a31",
   "metadata": {},
   "source": [
    "Write a NumPy program to compute the sum of the diagonal elements of a given array.\n",
    "\n",
    "Hint: Two methods to solve this problem: 1. manually(without direct function). 2. using the trace function"
   ]
  },
  {
   "cell_type": "code",
   "execution_count": 18,
   "id": "00f59ab1",
   "metadata": {},
   "outputs": [
    {
     "name": "stdout",
     "output_type": "stream",
     "text": [
      "Numpy Matrix is:\n",
      "[[55 25 15]\n",
      " [30 44  2]\n",
      " [11 45 77]]\n",
      "\n",
      "Trace of given 3X3 matrix:\n",
      "176\n"
     ]
    }
   ],
   "source": [
    "\n",
    "array1 = np.array([[55, 25, 15],\n",
    "                    [30, 44, 2],\n",
    "                    [11, 45, 77]])\n",
    "  \n",
    "\n",
    "print(\"Numpy Matrix is:\")\n",
    "print(array1)\n",
    "  \n",
    "\n",
    "trace = np.trace(array1)\n",
    "  \n",
    "  \n",
    "print(\"\\nTrace of given 3X3 matrix:\")\n",
    "print(trace)"
   ]
  },
  {
   "cell_type": "markdown",
   "id": "ef9fc366",
   "metadata": {},
   "source": [
    "Given an array of your choice, get all the values higher than X :\n",
    "\n",
    "if a = [[1,2],[3,5]] and x = 2 :  then 3 and 5 are higher than 2. \n",
    "\n"
   ]
  },
  {
   "cell_type": "code",
   "execution_count": 19,
   "id": "1532085e",
   "metadata": {
    "scrolled": true
   },
   "outputs": [
    {
     "name": "stdout",
     "output_type": "stream",
     "text": [
      "Original array: \n",
      "[[ 0 10 20]\n",
      " [20 30 40]]\n",
      "Values bigger than 10 = [20 20 30 40]\n"
     ]
    }
   ],
   "source": [
    "import numpy as np\n",
    "x = np.array([[0, 10, 20], [20, 30, 40]])\n",
    "print(\"Original array: \")\n",
    "print(x)\n",
    "print(\"Values bigger than 10 =\", x[x>10])\n"
   ]
  },
  {
   "cell_type": "markdown",
   "id": "52292f3f",
   "metadata": {},
   "source": [
    "Given two arrays, A & B have the same shape. \n",
    "\n",
    "The task is to apply addition by hand: C is the new array. \n"
   ]
  },
  {
   "cell_type": "code",
   "execution_count": 28,
   "id": "01e567f1",
   "metadata": {},
   "outputs": [
    {
     "name": "stdout",
     "output_type": "stream",
     "text": [
      "[[1 2]\n",
      " [3 4]]\n",
      "[[5 6]\n",
      " [7 8]]\n",
      "[[ 6  8]\n",
      " [10 12]]\n"
     ]
    }
   ],
   "source": [
    "import numpy as np\n",
    "A=np.array([[1,2],[3,4]])\n",
    "B=np.array([[5,6],[7,8]])\n",
    "print(A)\n",
    "print(B)\n",
    "C=np.add(A, B)\n",
    "print(C)"
   ]
  },
  {
   "cell_type": "markdown",
   "id": "0b3411f4",
   "metadata": {},
   "source": [
    "Write a NumPy program to subtract the mean of each row of a given matrix.\n",
    "\n",
    "Hint: use the mean function"
   ]
  },
  {
   "cell_type": "code",
   "execution_count": 36,
   "id": "e0f7ae74",
   "metadata": {},
   "outputs": [
    {
     "name": "stdout",
     "output_type": "stream",
     "text": [
      "[[0.16218914 0.22702459 0.27875312 0.40078675]\n",
      " [0.54803066 0.51759213 0.44177016 0.45102754]\n",
      " [0.81593278 0.53357755 0.59375158 0.30131339]]\n",
      "[[-0.10499926 -0.04016381  0.01156472  0.13359836]\n",
      " [ 0.05842554  0.02798701 -0.04783497 -0.03857758]\n",
      " [ 0.25478895 -0.02756628  0.03260776 -0.25983043]]\n"
     ]
    }
   ],
   "source": [
    "import numpy as np\n",
    "a = np.random.random((3, 4))\n",
    "print(a)\n",
    "b = a - a.mean(axis=1, keepdims=True)\n",
    "print(b)"
   ]
  },
  {
   "cell_type": "code",
   "execution_count": null,
   "id": "05e7365d",
   "metadata": {},
   "outputs": [],
   "source": []
  }
 ],
 "metadata": {
  "kernelspec": {
   "display_name": "Python 3",
   "language": "python",
   "name": "python3"
  },
  "language_info": {
   "codemirror_mode": {
    "name": "ipython",
    "version": 3
   },
   "file_extension": ".py",
   "mimetype": "text/x-python",
   "name": "python",
   "nbconvert_exporter": "python",
   "pygments_lexer": "ipython3",
   "version": "3.8.8"
  }
 },
 "nbformat": 4,
 "nbformat_minor": 5
}
