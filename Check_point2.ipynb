{
 "cells": [
  {
   "cell_type": "code",
   "execution_count": null,
   "id": "3afebf46",
   "metadata": {},
   "outputs": [],
   "source": [
    "x=input(\"enter your first name\") #enter first name as a string\n",
    "y=input(\"enter your last name\") #enter last name as a string\n",
    "print(x[::-1]+' '+y[::-1]) # reverse order of first name and last name with a space between them"
   ]
  },
  {
   "cell_type": "code",
   "execution_count": 11,
   "id": "2d00f043",
   "metadata": {},
   "outputs": [
    {
     "name": "stdout",
     "output_type": "stream",
     "text": [
      "give n5\n",
      "615\n"
     ]
    }
   ],
   "source": [
    "n=str(input(\"give n\")) #enter n\n",
    "m=n*2\n",
    "p=n*3\n",
    "q=int(n)+int(m)+int(p) \n",
    "print(q) "
   ]
  },
  {
   "cell_type": "code",
   "execution_count": 22,
   "id": "1f611294",
   "metadata": {},
   "outputs": [
    {
     "name": "stdout",
     "output_type": "stream",
     "text": [
      "give n5\n",
      "n is odd\n"
     ]
    }
   ],
   "source": [
    "n=int(input(\"give n\")) #enter n\n",
    " #print if the number is even or odd\n",
    "if n%2==0:\n",
    "   \n",
    "    print(\"n is even\")\n",
    "else:\n",
    "    print(\"n is odd\")\n",
    "  "
   ]
  },
  {
   "cell_type": "code",
   "execution_count": 24,
   "id": "1296fa0c",
   "metadata": {},
   "outputs": [
    {
     "name": "stdout",
     "output_type": "stream",
     "text": [
      "2002\n",
      "2009\n",
      "2016\n",
      "2023\n",
      "2037\n",
      "2044\n",
      "2051\n",
      "2058\n",
      "2072\n",
      "2079\n",
      "2086\n",
      "2093\n",
      "2107\n",
      "2114\n",
      "2121\n",
      "2128\n",
      "2142\n",
      "2149\n",
      "2156\n",
      "2163\n",
      "2177\n",
      "2184\n",
      "2191\n",
      "2198\n",
      "2212\n",
      "2219\n",
      "2226\n",
      "2233\n",
      "2247\n",
      "2254\n",
      "2261\n",
      "2268\n",
      "2282\n",
      "2289\n",
      "2296\n",
      "2303\n",
      "2317\n",
      "2324\n",
      "2331\n",
      "2338\n",
      "2352\n",
      "2359\n",
      "2366\n",
      "2373\n",
      "2387\n",
      "2394\n",
      "2401\n",
      "2408\n",
      "2422\n",
      "2429\n",
      "2436\n",
      "2443\n",
      "2457\n",
      "2464\n",
      "2471\n",
      "2478\n",
      "2492\n",
      "2499\n",
      "2506\n",
      "2513\n",
      "2527\n",
      "2534\n",
      "2541\n",
      "2548\n",
      "2562\n",
      "2569\n",
      "2576\n",
      "2583\n",
      "2597\n",
      "2604\n",
      "2611\n",
      "2618\n",
      "2632\n",
      "2639\n",
      "2646\n",
      "2653\n",
      "2667\n",
      "2674\n",
      "2681\n",
      "2688\n",
      "2702\n",
      "2709\n",
      "2716\n",
      "2723\n",
      "2737\n",
      "2744\n",
      "2751\n",
      "2758\n",
      "2772\n",
      "2779\n",
      "2786\n",
      "2793\n",
      "2807\n",
      "2814\n",
      "2821\n",
      "2828\n",
      "2842\n",
      "2849\n",
      "2856\n",
      "2863\n",
      "2877\n",
      "2884\n",
      "2891\n",
      "2898\n",
      "2912\n",
      "2919\n",
      "2926\n",
      "2933\n",
      "2947\n",
      "2954\n",
      "2961\n",
      "2968\n",
      "2982\n",
      "2989\n",
      "2996\n",
      "3003\n",
      "3017\n",
      "3024\n",
      "3031\n",
      "3038\n",
      "3052\n",
      "3059\n",
      "3066\n",
      "3073\n",
      "3087\n",
      "3094\n",
      "3101\n",
      "3108\n",
      "3122\n",
      "3129\n",
      "3136\n",
      "3143\n",
      "3157\n",
      "3164\n",
      "3171\n",
      "3178\n",
      "3192\n",
      "3199\n"
     ]
    }
   ],
   "source": [
    "for x in range(2000,3201):\n",
    "    #print the numbers that are divisible by 7 but are not a multiple of 5\n",
    "    if x%7==0 and x%5 !=0:\n",
    "        print(x)"
   ]
  },
  {
   "cell_type": "code",
   "execution_count": 35,
   "id": "f130bab7",
   "metadata": {},
   "outputs": [
    {
     "name": "stdout",
     "output_type": "stream",
     "text": [
      "give a number0\n",
      "0 != 1\n"
     ]
    }
   ],
   "source": [
    "x=int(input(\"give a number\"))\n",
    "#calculate the fuctorial of x\n",
    "i=1\n",
    "f=1\n",
    "if x>1:\n",
    "    while i<=x:\n",
    "        f=f*i\n",
    "        i=i+1\n",
    "\n",
    "         \n",
    "print(x,\"!=\",f)"
   ]
  },
  {
   "cell_type": "code",
   "execution_count": 45,
   "id": "95e99f10",
   "metadata": {},
   "outputs": [
    {
     "name": "stdout",
     "output_type": "stream",
     "text": [
      "give a stringhello team\n",
      "hlota\n"
     ]
    }
   ],
   "source": [
    "s=input(\"give a string\")\n",
    "new_string=\"\"\n",
    "#remove the characters which have odd index values of a given string\n",
    "for i in range(0,len(s)):\n",
    "    if i%2==0:\n",
    "        new_string+=s[i] \n",
    "print(new_string)    "
   ]
  },
  {
   "cell_type": "code",
   "execution_count": 41,
   "id": "25a29cbd",
   "metadata": {},
   "outputs": [
    {
     "name": "stdout",
     "output_type": "stream",
     "text": [
      "give me the price500\n",
      "there will be a 50% discount\n"
     ]
    }
   ],
   "source": [
    "x=int(input(\"give me the price\"))\n",
    "if x>=500:\n",
    "    print(\"there will be a 50% discount\")\n",
    "elif x in range(200,500):\n",
    "    print(\"there will be a 30% discount\")\n",
    "elif x<200:\n",
    "    print(\"there will be a 10% discount\")"
   ]
  },
  {
   "cell_type": "code",
   "execution_count": null,
   "id": "4be7d686",
   "metadata": {},
   "outputs": [],
   "source": []
  },
  {
   "cell_type": "code",
   "execution_count": null,
   "id": "5cd718e8",
   "metadata": {},
   "outputs": [],
   "source": []
  }
 ],
 "metadata": {
  "kernelspec": {
   "display_name": "Python 3",
   "language": "python",
   "name": "python3"
  },
  "language_info": {
   "codemirror_mode": {
    "name": "ipython",
    "version": 3
   },
   "file_extension": ".py",
   "mimetype": "text/x-python",
   "name": "python",
   "nbconvert_exporter": "python",
   "pygments_lexer": "ipython3",
   "version": "3.8.8"
  }
 },
 "nbformat": 4,
 "nbformat_minor": 5
}
