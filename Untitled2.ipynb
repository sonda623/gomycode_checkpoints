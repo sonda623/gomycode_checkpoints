{
  "nbformat": 4,
  "nbformat_minor": 0,
  "metadata": {
    "colab": {
      "name": "Untitled2.ipynb",
      "provenance": [],
      "authorship_tag": "ABX9TyOqkOFOXloNNjkngyxBOqUF",
      "include_colab_link": true
    },
    "kernelspec": {
      "name": "python3",
      "display_name": "Python 3"
    },
    "language_info": {
      "name": "python"
    }
  },
  "cells": [
    {
      "cell_type": "markdown",
      "metadata": {
        "id": "view-in-github",
        "colab_type": "text"
      },
      "source": [
        "<a href=\"https://colab.research.google.com/github/sonda623/gomycode_checkpoints/blob/main/Untitled2.ipynb\" target=\"_parent\"><img src=\"https://colab.research.google.com/assets/colab-badge.svg\" alt=\"Open In Colab\"/></a>"
      ]
    },
    {
      "cell_type": "markdown",
      "source": [
        "Import the time module.\n",
        "\n",
        "Ask the user to input the length of the countdown in seconds.\n",
        "\n",
        "This value is sent as a parameter ‘t’ to the user-defined function countdown().\n",
        "\n",
        " Any variable read using the input function is a string. So, convert this parameter to ‘int’ as it is of string type.\n",
        "\n",
        "In this function, a while loop runs until time becomes 0.\n",
        "\n",
        "Use divmod() to calculate the number of minutes and seconds. You can read more about it here.\n",
        "\n",
        "Now print the minutes and seconds on the screen using the variable timeformat.\n",
        "\n",
        "Using end = ‘\\r’ we force the cursor to go back to the start of the screen \n",
        "(carriage return) so that the next line printed will overwrite the previous one.\n",
        "The time.sleep() is used to make the code wait for one sec.\n",
        "Now decrement time so that the while loop can converge.\n",
        "After the completion of the loop, we will print “Fire in the hole” to signify the end of the countdown."
      ],
      "metadata": {
        "id": "kArBb9Kde8PO"
      }
    },
    {
      "cell_type": "code",
      "execution_count": 22,
      "metadata": {
        "colab": {
          "base_uri": "https://localhost:8080/"
        },
        "id": "vRbGaTsmeMno",
        "outputId": "cca101ee-02b8-4ac2-c60d-70e367be8597"
      },
      "outputs": [
        {
          "output_type": "stream",
          "name": "stdout",
          "text": [
            "the length of the countdown in seconds10\n",
            "Fire in the hole\n"
          ]
        }
      ],
      "source": [
        "import time \n",
        "def countdown(t):\n",
        "  while t:\n",
        "    mins,sec= divmod(t, 60)  \n",
        "    timer = '{:02d}:{:02d}'.format(mins, sec)\n",
        "    print(timer,end=\"\\r\")\n",
        "    time.sleep(1)\n",
        "    t-=1\n",
        "  print('Fire in the hole')\n",
        " \n",
        "t=input(\"the length of the countdown in seconds\")   \n",
        "countdown(int(t)) \n"
      ]
    }
  ]
}